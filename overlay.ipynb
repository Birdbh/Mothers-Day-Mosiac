{
 "cells": [
  {
   "cell_type": "code",
   "execution_count": 8,
   "metadata": {},
   "outputs": [],
   "source": [
    "from PIL import Image\n",
    "\n",
    "background = Image.open(\"output.png\")\n",
    "overlay = Image.open(\"large.jpg\")\n",
    "\n",
    "background = background.convert(\"RGBA\")\n",
    "overlay = overlay.convert(\"RGBA\")\n",
    "\n",
    "overlay = overlay.resize((background.size[0],background.size[1]))\n",
    "\n",
    "new_img = Image.blend(background, overlay, 0.6)\n",
    "new_img.save(\"new.png\",\"PNG\")"
   ]
  }
 ],
 "metadata": {
  "kernelspec": {
   "display_name": "course02502",
   "language": "python",
   "name": "python3"
  },
  "language_info": {
   "codemirror_mode": {
    "name": "ipython",
    "version": 3
   },
   "file_extension": ".py",
   "mimetype": "text/x-python",
   "name": "python",
   "nbconvert_exporter": "python",
   "pygments_lexer": "ipython3",
   "version": "3.9.16"
  },
  "orig_nbformat": 4
 },
 "nbformat": 4,
 "nbformat_minor": 2
}
