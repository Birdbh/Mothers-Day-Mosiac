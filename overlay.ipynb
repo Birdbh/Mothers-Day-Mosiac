{
 "cells": [
  {
   "cell_type": "code",
   "execution_count": 8,
   "metadata": {},
   "outputs": [],
   "source": [
    "from PIL import Image\n",
    "\n",
    "background = Image.open(\"output.png\")\n",
    "overlay = Image.open(\"large.jpg\")\n",
    "\n",
    "background = background.convert(\"RGBA\")\n",
    "overlay = overlay.convert(\"RGBA\")\n",
    "\n",
    "overlay = overlay.resize((background.size[0],background.size[1]))\n",
    "\n",
    "new_img = Image.blend(background, overlay, 0.6)\n",
    "new_img.save(\"new.png\",\"PNG\")"
   ]
  },
  {
   "cell_type": "code",
   "execution_count": 16,
   "metadata": {},
   "outputs": [
    {
     "name": "stdout",
     "output_type": "stream",
     "text": [
      "<numpy.nditer object at 0x00000190E2316D50>\n"
     ]
    },
    {
     "ename": "IndexError",
     "evalue": "too many indices for array: array is 0-dimensional, but 1 were indexed",
     "output_type": "error",
     "traceback": [
      "\u001b[1;31m---------------------------------------------------------------------------\u001b[0m",
      "\u001b[1;31mIndexError\u001b[0m                                Traceback (most recent call last)",
      "Cell \u001b[1;32mIn[16], line 10\u001b[0m\n\u001b[0;32m      8\u001b[0m \u001b[39mfor\u001b[39;00m x \u001b[39min\u001b[39;00m it:\n\u001b[0;32m      9\u001b[0m     \u001b[39mprint\u001b[39m(it)\n\u001b[1;32m---> 10\u001b[0m     \u001b[39mif\u001b[39;00m x[\u001b[39m3\u001b[39;49m] \u001b[39m==\u001b[39m \u001b[39m255\u001b[39m:\n\u001b[0;32m     11\u001b[0m         x[\u001b[39m0\u001b[39m] \u001b[39m==\u001b[39m \u001b[39m255\u001b[39m\n\u001b[0;32m     12\u001b[0m         x[\u001b[39m1\u001b[39m] \u001b[39m==\u001b[39m \u001b[39m255\u001b[39m\n",
      "\u001b[1;31mIndexError\u001b[0m: too many indices for array: array is 0-dimensional, but 1 were indexed"
     ]
    }
   ],
   "source": [
    "from skimage import io\n",
    "import numpy as np\n",
    "\n",
    "sexo = np.array(io.imread(\"sexo.png\"))\n",
    "sex = io.imread(\"sex.png\")\n",
    "\n",
    "with np.nditer(sexo, op_flags=[\"readwrite\"]) as it:\n",
    "    for x in it:\n",
    "        print(it)\n",
    "        if x[3] == 255:\n",
    "            x[0] == 255\n",
    "            x[1] == 255\n",
    "            x[0] == 255\n",
    "io.imsave(\"new.png\",sexo)\n",
    "io.show()"
   ]
  }
 ],
 "metadata": {
  "kernelspec": {
   "display_name": "course02502",
   "language": "python",
   "name": "python3"
  },
  "language_info": {
   "codemirror_mode": {
    "name": "ipython",
    "version": 3
   },
   "file_extension": ".py",
   "mimetype": "text/x-python",
   "name": "python",
   "nbconvert_exporter": "python",
   "pygments_lexer": "ipython3",
   "version": "3.9.16"
  },
  "orig_nbformat": 4
 },
 "nbformat": 4,
 "nbformat_minor": 2
}
